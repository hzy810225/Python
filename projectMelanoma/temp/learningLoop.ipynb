{
 "cells": [
  {
   "cell_type": "code",
   "execution_count": 6,
   "metadata": {
    "collapsed": true
   },
   "outputs": [],
   "source": [
    "from PIL import Image\n",
    "import numpy\n",
    "from os import listdir\n",
    "import pandas\n",
    "from sklearn.metrics import confusion_matrix\n",
    "\n",
    "pathLabel = \"C:/Users/user/Desktop/Python/Mole/Data/Label/label.csv\"  ##  Label路徑\n",
    "imageLabelTable = pandas.read_csv(pathLabel)\n",
    "imageLabelTable\n",
    "\n",
    "pathImage = \"C:/Users/user/Desktop/Python/Mole/Data/Image/\"  ##  圖檔路徑\n",
    "\n",
    "## 圖的資料\n",
    "ImageData = []\n",
    "ImageLabel = []\n",
    "for index, name in enumerate(listdir(pathImage)):\n",
    "    \n",
    "    ##  Load圖\n",
    "    image = Image.open(pathImage + name)\n",
    "    image = image.resize( (32, 32), Image.BILINEAR )\n",
    "    \n",
    "    ##  圖的array\n",
    "    ImageData.append(numpy.array( image ))\n",
    "\n",
    "    ##  圖的label\n",
    "    iLabel = imageLabelTable[imageLabelTable.Image == name].Label.item()\n",
    "    ImageLabel.append(iLabel)\n",
    "    \n",
    "ImageData = numpy.array(ImageData)  ##  print(ImageData.shape)  ##  幹!!這麼漂亮!! => 直接整理好!!\n",
    "ImageLabel = numpy.array(ImageLabel)\n",
    "ImageLabel = ImageLabel.reshape(ImageLabel.size, 1)"
   ]
  },
  {
   "cell_type": "code",
   "execution_count": 7,
   "metadata": {},
   "outputs": [],
   "source": [
    "from keras import preprocessing\n",
    "generator = preprocessing.image.ImageDataGenerator(rotation_range=30)\n",
    "batch = 20  ##  每組 K 個圖片\n",
    "dataGenerator = generator.flow(ImageData, ImageLabel, batch_size=batch)\n",
    "\n",
    "K = 40  ##  產生 K 組\n",
    "for i in range(K):\n",
    "    tempX, tempY = next(dataGenerator)\n",
    "    ImageData = numpy.concatenate((ImageData, tempX), axis=0)\n",
    "    ImageLabel = numpy.concatenate((ImageLabel, tempY), axis=0)"
   ]
  },
  {
   "cell_type": "code",
   "execution_count": 8,
   "metadata": {},
   "outputs": [],
   "source": [
    "Data = (ImageData, ImageLabel)"
   ]
  },
  {
   "cell_type": "code",
   "execution_count": 14,
   "metadata": {},
   "outputs": [
    {
     "name": "stdout",
     "output_type": "stream",
     "text": [
      "Here are  3 -folds cross validation loop \n",
      "\n",
      "\n",
      "Enter  1 fold\n",
      "Train on 775 samples, validate on 393 samples\n",
      "Epoch 1/10\n",
      "775/775 [==============================] - 3s 4ms/step - loss: 2.3271 - acc: 0.1135 - val_loss: 2.2821 - val_acc: 0.1145\n",
      "Epoch 2/10\n",
      "775/775 [==============================] - 2s 3ms/step - loss: 2.2850 - acc: 0.1510 - val_loss: 2.2365 - val_acc: 0.2392\n",
      "Epoch 3/10\n",
      "775/775 [==============================] - 2s 3ms/step - loss: 2.2148 - acc: 0.2323 - val_loss: 2.1077 - val_acc: 0.2901\n",
      "Epoch 4/10\n",
      "775/775 [==============================] - 2s 3ms/step - loss: 2.0168 - acc: 0.2903 - val_loss: 1.8396 - val_acc: 0.3435\n",
      "Epoch 5/10\n",
      "775/775 [==============================] - 2s 3ms/step - loss: 1.8414 - acc: 0.3613 - val_loss: 1.6353 - val_acc: 0.4173\n",
      "Epoch 6/10\n",
      "775/775 [==============================] - 2s 3ms/step - loss: 1.6220 - acc: 0.4439 - val_loss: 1.4229 - val_acc: 0.5267\n",
      "Epoch 7/10\n",
      "775/775 [==============================] - 2s 3ms/step - loss: 1.3904 - acc: 0.5239 - val_loss: 1.3515 - val_acc: 0.5115\n",
      "Epoch 8/10\n",
      "775/775 [==============================] - 2s 3ms/step - loss: 1.2324 - acc: 0.5961 - val_loss: 1.1542 - val_acc: 0.6031\n",
      "Epoch 9/10\n",
      "775/775 [==============================] - 2s 3ms/step - loss: 1.1121 - acc: 0.6245 - val_loss: 1.1071 - val_acc: 0.6387\n",
      "Epoch 10/10\n",
      "775/775 [==============================] - 2s 3ms/step - loss: 0.9541 - acc: 0.6877 - val_loss: 1.0272 - val_acc: 0.6336\n",
      "Enter  2 fold\n",
      "Train on 780 samples, validate on 388 samples\n",
      "Epoch 1/10\n",
      "780/780 [==============================] - 3s 4ms/step - loss: 2.3241 - acc: 0.1154 - val_loss: 2.2781 - val_acc: 0.2036\n",
      "Epoch 2/10\n",
      "780/780 [==============================] - 2s 3ms/step - loss: 2.2518 - acc: 0.1603 - val_loss: 2.1566 - val_acc: 0.2500\n",
      "Epoch 3/10\n",
      "780/780 [==============================] - 2s 3ms/step - loss: 2.1128 - acc: 0.2603 - val_loss: 1.9663 - val_acc: 0.2861\n",
      "Epoch 4/10\n",
      "780/780 [==============================] - 2s 3ms/step - loss: 1.8494 - acc: 0.3372 - val_loss: 1.7430 - val_acc: 0.3918\n",
      "Epoch 5/10\n",
      "780/780 [==============================] - 2s 3ms/step - loss: 1.6438 - acc: 0.4154 - val_loss: 1.6006 - val_acc: 0.4742\n",
      "Epoch 6/10\n",
      "780/780 [==============================] - 2s 3ms/step - loss: 1.4182 - acc: 0.5077 - val_loss: 1.5054 - val_acc: 0.5077\n",
      "Epoch 7/10\n",
      "780/780 [==============================] - 2s 3ms/step - loss: 1.2287 - acc: 0.5744 - val_loss: 1.4317 - val_acc: 0.5361\n",
      "Epoch 8/10\n",
      "780/780 [==============================] - 2s 3ms/step - loss: 1.0746 - acc: 0.6346 - val_loss: 1.2965 - val_acc: 0.5825\n",
      "Epoch 9/10\n",
      "780/780 [==============================] - 3s 3ms/step - loss: 0.8720 - acc: 0.7013 - val_loss: 1.2322 - val_acc: 0.6160\n",
      "Epoch 10/10\n",
      "780/780 [==============================] - 2s 3ms/step - loss: 0.7563 - acc: 0.7513 - val_loss: 1.1762 - val_acc: 0.6211\n",
      "Enter  3 fold\n",
      "Train on 781 samples, validate on 387 samples\n",
      "Epoch 1/10\n",
      "781/781 [==============================] - 3s 4ms/step - loss: 2.3021 - acc: 0.1357 - val_loss: 2.2679 - val_acc: 0.1731\n",
      "Epoch 2/10\n",
      "781/781 [==============================] - 2s 3ms/step - loss: 2.2142 - acc: 0.2177 - val_loss: 2.1606 - val_acc: 0.2222\n",
      "Epoch 3/10\n",
      "781/781 [==============================] - 2s 3ms/step - loss: 1.9638 - acc: 0.3047 - val_loss: 1.8540 - val_acc: 0.4160\n",
      "Epoch 4/10\n",
      "781/781 [==============================] - 2s 3ms/step - loss: 1.6861 - acc: 0.4136 - val_loss: 1.8177 - val_acc: 0.3333\n",
      "Epoch 5/10\n",
      "781/781 [==============================] - 2s 3ms/step - loss: 1.4621 - acc: 0.4904 - val_loss: 1.4391 - val_acc: 0.5116\n",
      "Epoch 6/10\n",
      "781/781 [==============================] - 3s 3ms/step - loss: 1.2384 - acc: 0.5877 - val_loss: 1.3912 - val_acc: 0.5220\n",
      "Epoch 7/10\n",
      "781/781 [==============================] - 2s 3ms/step - loss: 1.0541 - acc: 0.6569 - val_loss: 1.3702 - val_acc: 0.5659\n",
      "Epoch 8/10\n",
      "781/781 [==============================] - 2s 3ms/step - loss: 0.8983 - acc: 0.6914 - val_loss: 1.4341 - val_acc: 0.5116\n",
      "Epoch 9/10\n",
      "781/781 [==============================] - 2s 3ms/step - loss: 0.7962 - acc: 0.7286 - val_loss: 1.0714 - val_acc: 0.6563\n",
      "Epoch 10/10\n",
      "781/781 [==============================] - 2s 3ms/step - loss: 0.6358 - acc: 0.7798 - val_loss: 0.9355 - val_acc: 0.7054\n"
     ]
    }
   ],
   "source": [
    "from keras import utils\n",
    "from sklearn import model_selection\n",
    "import keras\n",
    "from sklearn.metrics import accuracy_score\n",
    "confuseMatrixinFold = []\n",
    "accuracyinFold = []\n",
    "K = 3\n",
    "i = 1\n",
    "StratifiedKFold = model_selection.StratifiedKFold(n_splits=K, random_state=0, shuffle=False)\n",
    "for trainIndex, validIndex in StratifiedKFold.split(Data[0], Data[1]):\n",
    "    if i == 1:\n",
    "        print(\"Here are \", K, \"-folds cross validation loop\", \"\\n\\n\")\n",
    "        \n",
    "    print(\"Enter \", i, \"fold\")\n",
    "    \n",
    "    ## Train X in k-fold\n",
    "    ## Valid X in k-fold\n",
    "    trainXinFold = Data[0][trainIndex, :, :, :]   \n",
    "    validXinFold = Data[0][validIndex, :, :, :]   \n",
    "    trainYinFold = Data[1][trainIndex]\n",
    "    validYinFold = Data[1][validIndex]\n",
    "    \n",
    "    trainXinFold = trainXinFold.astype('float32')\n",
    "    validXinFold = validXinFold.astype('float32')\n",
    "    trainXinFold /= 255\n",
    "    validXinFold /= 255\n",
    "    \n",
    "    trainYinFold = utils.to_categorical(trainYinFold, 10)\n",
    "    validYinFold = utils.to_categorical(validYinFold, 10)\n",
    "    \n",
    "    model = keras.models.Sequential()\n",
    "    model.add(keras.layers.Conv2D(filters=32, kernel_size=(3, 3), activation=\"relu\", input_shape=(32, 32, 3)))\n",
    "    model.add(keras.layers.Conv2D(filters=64, kernel_size=(3, 3), activation='relu'))\n",
    "    model.add(keras.layers.MaxPooling2D(pool_size=(2, 2)))\n",
    "    model.add(keras.layers.Dropout(0.25))\n",
    "    model.add(keras.layers.Flatten())  ##  拉直 \n",
    "    model.add(keras.layers.Dense(128, activation='relu'))\n",
    "    model.add(keras.layers.Dropout(0.5))\n",
    "    model.add(keras.layers.Dense(10, activation='softmax'))\n",
    "\n",
    "    model.compile(loss=keras.losses.categorical_crossentropy,\n",
    "                  optimizer=keras.optimizers.Adadelta(),\n",
    "                  metrics=['accuracy'])\n",
    "    \n",
    "    model.fit(trainXinFold, trainYinFold, batch_size=20, epochs=10, \n",
    "              verbose=1, validation_data=(validXinFold, validYinFold))\n",
    "    \n",
    "    validYhatinFold = model.predict(validXinFold)\n",
    "    confuseMatrixinFold.append( confusion_matrix(validYinFold.argmax(axis=-1), validYhatinFold.argmax(axis=-1)) )\n",
    "    accuracyinFold.append( accuracy_score(validYinFold.argmax(axis=-1), validYhatinFold.argmax(axis=-1)) )\n",
    "    i = i + 1"
   ]
  },
  {
   "cell_type": "code",
   "execution_count": 15,
   "metadata": {},
   "outputs": [
    {
     "data": {
      "text/plain": [
       "[0.6335877862595419, 0.6211340206185567, 0.7054263565891473]"
      ]
     },
     "execution_count": 15,
     "metadata": {},
     "output_type": "execute_result"
    }
   ],
   "source": [
    "accuracyinFold"
   ]
  },
  {
   "cell_type": "code",
   "execution_count": null,
   "metadata": {},
   "outputs": [],
   "source": []
  }
 ],
 "metadata": {
  "kernelspec": {
   "display_name": "Python 3",
   "language": "python",
   "name": "python3"
  },
  "language_info": {
   "codemirror_mode": {
    "name": "ipython",
    "version": 3
   },
   "file_extension": ".py",
   "mimetype": "text/x-python",
   "name": "python",
   "nbconvert_exporter": "python",
   "pygments_lexer": "ipython3",
   "version": "3.6.4"
  }
 },
 "nbformat": 4,
 "nbformat_minor": 1
}
