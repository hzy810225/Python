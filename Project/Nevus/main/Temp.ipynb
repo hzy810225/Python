{
 "cells": [
  {
   "cell_type": "code",
   "execution_count": 5,
   "metadata": {},
   "outputs": [],
   "source": [
    "import keras"
   ]
  },
  {
   "cell_type": "code",
   "execution_count": null,
   "metadata": {},
   "outputs": [],
   "source": [
    "##  補註解\n",
    "##  定義模型"
   ]
  },
  {
   "cell_type": "code",
   "execution_count": 66,
   "metadata": {},
   "outputs": [
    {
     "name": "stdout",
     "output_type": "stream",
     "text": [
      "__________________________________________________________________________________________________\n",
      "Layer (type)                    Output Shape         Param #     Connected to                     \n",
      "==================================================================================================\n",
      "ImageInput (InputLayer)         (None, 640, 480, 3)  0                                            \n",
      "__________________________________________________________________________________________________\n",
      "Conv-1 (Conv2D)                 (None, 640, 480, 32) 896         ImageInput[0][0]                 \n",
      "__________________________________________________________________________________________________\n",
      "MaxPooling-1 (MaxPooling2D)     (None, 320, 240, 32) 0           Conv-1[0][0]                     \n",
      "__________________________________________________________________________________________________\n",
      "Conv-2 (Conv2D)                 (None, 320, 240, 32) 9248        MaxPooling-1[0][0]               \n",
      "__________________________________________________________________________________________________\n",
      "MaxPooling-2 (MaxPooling2D)     (None, 160, 120, 32) 0           Conv-2[0][0]                     \n",
      "__________________________________________________________________________________________________\n",
      "Flat (Flatten)                  (None, 614400)       0           MaxPooling-2[0][0]               \n",
      "__________________________________________________________________________________________________\n",
      "DescriptionInput (InputLayer)   (None, 10)           0                                            \n",
      "__________________________________________________________________________________________________\n",
      "Merge (Concatenate)             (None, 614410)       0           Flat[0][0]                       \n",
      "                                                                 DescriptionInput[0][0]           \n",
      "__________________________________________________________________________________________________\n",
      "Output (Dense)                  (None, 2)            1228822     Merge[0][0]                      \n",
      "==================================================================================================\n",
      "Total params: 1,238,966\n",
      "Trainable params: 1,238,966\n",
      "Non-trainable params: 0\n",
      "__________________________________________________________________________________________________\n"
     ]
    }
   ],
   "source": [
    "##  圖片的維度\n",
    "sizeImageInput       = (640,480,3)  \n",
    "\n",
    "##  攤平後要加入的變數維度\n",
    "sizeDescriptionInput = (10,)  \n",
    "\n",
    "imageInput       = keras.Input(sizeImageInput, name='ImageInput')\n",
    "\n",
    "##  第一組卷積層\n",
    "modelStructure   = keras.layers.Convolution2D(filters=32, kernel_size=(3,3), strides=1, padding=\"same\", \n",
    "                                              activation=\"relu\", name=\"Conv-1\")(imageInput)\n",
    "modelStructure   = keras.layers.MaxPooling2D(pool_size=(2, 2), strides=None, name = \"MaxPooling-1\")(modelStructure)\n",
    "\n",
    "##  第二組卷積層\n",
    "modelStructure   = keras.layers.Convolution2D(filters=32, kernel_size=(3,3), strides=1, padding=\"same\", \n",
    "                                              activation=\"relu\", name=\"Conv-2\")(modelStructure)\n",
    "modelStructure   = keras.layers.MaxPooling2D(pool_size=(2, 2), strides=None, name=\"MaxPooling-2\")(modelStructure)\n",
    "\n",
    "##  攤平\n",
    "modelStructure   = keras.layers.Flatten(name=\"Flat\")(modelStructure)\n",
    "\n",
    "##  加入新變數\n",
    "descriptionInput = keras.Input(sizeDescriptionInput, name=\"DescriptionInput\")\n",
    "modelStructure   = keras.layers.concatenate([modelStructure, descriptionInput], name=\"Merge\")\n",
    "\n",
    "##  輸出層\n",
    "modelStructure   = keras.layers.Dense(2, activation=\"softmax\", name=\"Output\")(modelStructure)\n",
    "\n",
    "##  建構模型框架\n",
    "model = keras.Model([imageInput, descriptionInput], modelStructure)\n",
    "\n",
    "##  設定學習參數\n",
    "model.compile(optimizer=keras.optimizers.Adadelta(lr=1.0, rho=0.95, epsilon=None, decay=0.0), \n",
    "              loss='categorical_crossentropy', metrics=['accuracy'])\n",
    "\n",
    "model.summary()"
   ]
  },
  {
   "cell_type": "code",
   "execution_count": 62,
   "metadata": {},
   "outputs": [],
   "source": [
    "model.fit(x=None, y=None, batch_size=None, \n",
    "          epochs=1, verbose=1, \n",
    "          callbacks=None, validation_data=None)"
   ]
  },
  {
   "cell_type": "code",
   "execution_count": null,
   "metadata": {},
   "outputs": [],
   "source": []
  }
 ],
 "metadata": {
  "kernelspec": {
   "display_name": "Python 3",
   "language": "python",
   "name": "python3"
  },
  "language_info": {
   "codemirror_mode": {
    "name": "ipython",
    "version": 3
   },
   "file_extension": ".py",
   "mimetype": "text/x-python",
   "name": "python",
   "nbconvert_exporter": "python",
   "pygments_lexer": "ipython3",
   "version": "3.6.4"
  }
 },
 "nbformat": 4,
 "nbformat_minor": 2
}
