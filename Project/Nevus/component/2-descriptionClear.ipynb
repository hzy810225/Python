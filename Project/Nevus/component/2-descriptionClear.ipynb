{
 "cells": [
  {
   "cell_type": "code",
   "execution_count": 19,
   "metadata": {},
   "outputs": [
    {
     "data": {
      "text/plain": [
       "'C:\\\\Users\\\\user\\\\Desktop\\\\Python\\\\projectNevus\\\\component'"
      ]
     },
     "execution_count": 19,
     "metadata": {},
     "output_type": "execute_result"
    }
   ],
   "source": [
    "import os \n",
    "import pandas\n",
    "import numpy\n",
    "os.getcwd()"
   ]
  },
  {
   "cell_type": "code",
   "execution_count": 20,
   "metadata": {},
   "outputs": [],
   "source": [
    "##  要補註解"
   ]
  },
  {
   "cell_type": "code",
   "execution_count": 21,
   "metadata": {},
   "outputs": [
    {
     "data": {
      "text/html": [
       "<div>\n",
       "<style scoped>\n",
       "    .dataframe tbody tr th:only-of-type {\n",
       "        vertical-align: middle;\n",
       "    }\n",
       "\n",
       "    .dataframe tbody tr th {\n",
       "        vertical-align: top;\n",
       "    }\n",
       "\n",
       "    .dataframe thead th {\n",
       "        text-align: right;\n",
       "    }\n",
       "</style>\n",
       "<table border=\"1\" class=\"dataframe\">\n",
       "  <thead>\n",
       "    <tr style=\"text-align: right;\">\n",
       "      <th></th>\n",
       "      <th>Age</th>\n",
       "      <th>Diagnosis</th>\n",
       "      <th>Id</th>\n",
       "      <th>Sex</th>\n",
       "      <th>Status</th>\n",
       "      <th>Type</th>\n",
       "    </tr>\n",
       "  </thead>\n",
       "  <tbody>\n",
       "    <tr>\n",
       "      <th>0</th>\n",
       "      <td>55.0</td>\n",
       "      <td>nevus</td>\n",
       "      <td>ISIC_0000000</td>\n",
       "      <td>female</td>\n",
       "      <td>benign</td>\n",
       "      <td>dermoscopic</td>\n",
       "    </tr>\n",
       "    <tr>\n",
       "      <th>1</th>\n",
       "      <td>30.0</td>\n",
       "      <td>nevus</td>\n",
       "      <td>ISIC_0000001</td>\n",
       "      <td>female</td>\n",
       "      <td>benign</td>\n",
       "      <td>dermoscopic</td>\n",
       "    </tr>\n",
       "    <tr>\n",
       "      <th>2</th>\n",
       "      <td>60.0</td>\n",
       "      <td>melanoma</td>\n",
       "      <td>ISIC_0000002</td>\n",
       "      <td>female</td>\n",
       "      <td>malignant</td>\n",
       "      <td>dermoscopic</td>\n",
       "    </tr>\n",
       "    <tr>\n",
       "      <th>3</th>\n",
       "      <td>30.0</td>\n",
       "      <td>nevus</td>\n",
       "      <td>ISIC_0000003</td>\n",
       "      <td>male</td>\n",
       "      <td>benign</td>\n",
       "      <td>dermoscopic</td>\n",
       "    </tr>\n",
       "    <tr>\n",
       "      <th>4</th>\n",
       "      <td>80.0</td>\n",
       "      <td>melanoma</td>\n",
       "      <td>ISIC_0000004</td>\n",
       "      <td>male</td>\n",
       "      <td>malignant</td>\n",
       "      <td>dermoscopic</td>\n",
       "    </tr>\n",
       "  </tbody>\n",
       "</table>\n",
       "</div>"
      ],
      "text/plain": [
       "    Age Diagnosis            Id     Sex     Status         Type\n",
       "0  55.0     nevus  ISIC_0000000  female     benign  dermoscopic\n",
       "1  30.0     nevus  ISIC_0000001  female     benign  dermoscopic\n",
       "2  60.0  melanoma  ISIC_0000002  female  malignant  dermoscopic\n",
       "3  30.0     nevus  ISIC_0000003    male     benign  dermoscopic\n",
       "4  80.0  melanoma  ISIC_0000004    male  malignant  dermoscopic"
      ]
     },
     "execution_count": 21,
     "metadata": {},
     "output_type": "execute_result"
    }
   ],
   "source": [
    "path = \"C:\\\\Users\\\\user\\\\Desktop\\\\Python\\\\projectNevus\\\\data\\\\temporary\\\\\"\n",
    "file = \"descriptionFull.csv\"\n",
    "descriptionFull = pandas.read_csv(path + file, index_col = 0)\n",
    "descriptionFull.head()"
   ]
  },
  {
   "cell_type": "code",
   "execution_count": 22,
   "metadata": {},
   "outputs": [
    {
     "data": {
      "text/plain": [
       "(21041, 6)"
      ]
     },
     "execution_count": 22,
     "metadata": {},
     "output_type": "execute_result"
    }
   ],
   "source": [
    "##  刪除有遺失值的資料\n",
    "descriptionClear = descriptionFull.dropna()\n",
    "descriptionClear.shape"
   ]
  },
  {
   "cell_type": "code",
   "execution_count": 24,
   "metadata": {},
   "outputs": [],
   "source": [
    "file = \"descriptionClear.csv\"\n",
    "descriptionClear.to_csv(path + file)"
   ]
  }
 ],
 "metadata": {
  "kernelspec": {
   "display_name": "Python 3",
   "language": "python",
   "name": "python3"
  },
  "language_info": {
   "codemirror_mode": {
    "name": "ipython",
    "version": 3
   },
   "file_extension": ".py",
   "mimetype": "text/x-python",
   "name": "python",
   "nbconvert_exporter": "python",
   "pygments_lexer": "ipython3",
   "version": "3.6.4"
  }
 },
 "nbformat": 4,
 "nbformat_minor": 2
}
