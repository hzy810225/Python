{
 "cells": [
  {
   "cell_type": "code",
   "execution_count": 1,
   "metadata": {},
   "outputs": [
    {
     "name": "stderr",
     "output_type": "stream",
     "text": [
      "Using TensorFlow backend.\n"
     ]
    }
   ],
   "source": [
    "import keras\n",
    "import pickle\n",
    "from sklearn.model_selection import train_test_split\n",
    "from sklearn.metrics import confusion_matrix"
   ]
  },
  {
   "cell_type": "code",
   "execution_count": 2,
   "metadata": {},
   "outputs": [],
   "source": [
    "##  補註解\n"
   ]
  },
  {
   "cell_type": "code",
   "execution_count": 13,
   "metadata": {},
   "outputs": [
    {
     "name": "stdout",
     "output_type": "stream",
     "text": [
      "__________________________________________________________________________________________________\n",
      "Layer (type)                    Output Shape         Param #     Connected to                     \n",
      "==================================================================================================\n",
      "ImageInput (InputLayer)         (None, 32, 32, 3)    0                                            \n",
      "__________________________________________________________________________________________________\n",
      "Conv-1 (Conv2D)                 (None, 32, 32, 32)   896         ImageInput[0][0]                 \n",
      "__________________________________________________________________________________________________\n",
      "MaxPooling-1 (MaxPooling2D)     (None, 16, 16, 32)   0           Conv-1[0][0]                     \n",
      "__________________________________________________________________________________________________\n",
      "Flat (Flatten)                  (None, 8192)         0           MaxPooling-1[0][0]               \n",
      "__________________________________________________________________________________________________\n",
      "DescriptionInput (InputLayer)   (None, 3)            0                                            \n",
      "__________________________________________________________________________________________________\n",
      "Merge (Concatenate)             (None, 8195)         0           Flat[0][0]                       \n",
      "                                                                 DescriptionInput[0][0]           \n",
      "__________________________________________________________________________________________________\n",
      "Hidden-1 (Dense)                (None, 200)          1639200     Merge[0][0]                      \n",
      "__________________________________________________________________________________________________\n",
      "Output (Dense)                  (None, 2)            402         Hidden-1[0][0]                   \n",
      "==================================================================================================\n",
      "Total params: 1,640,498\n",
      "Trainable params: 1,640,498\n",
      "Non-trainable params: 0\n",
      "__________________________________________________________________________________________________\n",
      "None\n"
     ]
    }
   ],
   "source": [
    "##  圖片的維度\n",
    "sizeImageInput       = (32,32,3)  \n",
    "\n",
    "##  攤平後要加入的變數維度\n",
    "sizeDescriptionInput = (3,)  \n",
    "\n",
    "imageInput       = keras.Input(sizeImageInput, name='ImageInput')\n",
    "\n",
    "##  第一組卷積層\n",
    "modelStructure   = keras.layers.Convolution2D(filters=32, kernel_size=(3,3), strides=1, padding=\"same\", \n",
    "                                              activation=\"relu\", name=\"Conv-1\")(imageInput)\n",
    "modelStructure   = keras.layers.MaxPooling2D(pool_size=(2, 2), strides=None, name = \"MaxPooling-1\")(modelStructure)\n",
    "\n",
    "'''\n",
    "##  第二組卷積層\n",
    "modelStructure   = keras.layers.Convolution2D(filters=32, kernel_size=(3,3), strides=1, padding=\"same\", \n",
    "                                              activation=\"relu\", name=\"Conv-2\")(modelStructure)\n",
    "modelStructure   = keras.layers.MaxPooling2D(pool_size=(2, 2), strides=None, name=\"MaxPooling-2\")(modelStructure)\n",
    "'''\n",
    "\n",
    "##  攤平\n",
    "modelStructure   = keras.layers.Flatten(name=\"Flat\")(modelStructure)\n",
    "\n",
    "##  加入新變數\n",
    "descriptionInput = keras.Input(sizeDescriptionInput, name=\"DescriptionInput\")\n",
    "modelStructure   = keras.layers.concatenate([modelStructure, descriptionInput], name=\"Merge\")\n",
    "\n",
    "##  隱藏層\n",
    "modelStructure   = keras.layers.Dense(200, activation=\"tanh\", name=\"Hidden-1\")(modelStructure)\n",
    "\n",
    "'''\n",
    "##  隱藏層\n",
    "modelStructure   = keras.layers.Dense(200, activation=\"tanh\", name=\"Hidden-2\")(modelStructure)\n",
    "\n",
    "\n",
    "##  隱藏層\n",
    "modelStructure   = keras.layers.Dense(50, activation=\"tanh\", name=\"Hidden-3\")(modelStructure)\n",
    "'''\n",
    "\n",
    "##  輸出層\n",
    "modelStructure   = keras.layers.Dense(2, activation=\"softmax\", name=\"Output\")(modelStructure)\n",
    "\n",
    "##  建構模型框架\n",
    "model = keras.Model([imageInput, descriptionInput], modelStructure)\n",
    "\n",
    "\n",
    "\n",
    "##  設定學習參數\n",
    "model.compile(optimizer=keras.optimizers.Adadelta(lr=0.1, rho=0.95, epsilon=None, decay=0.0), \n",
    "              loss='categorical_crossentropy', metrics=['accuracy'])\n",
    "\n",
    "\n",
    "\n",
    "print(model.summary())"
   ]
  },
  {
   "cell_type": "code",
   "execution_count": 14,
   "metadata": {},
   "outputs": [
    {
     "name": "stdout",
     "output_type": "stream",
     "text": [
      "Train on 18002 samples, validate on 2001 samples\n",
      "Epoch 1/12\n",
      "18002/18002 [==============================] - 10s 554us/step - loss: 0.2400 - acc: 0.9032 - val_loss: 0.2153 - val_acc: 0.9035\n",
      "Epoch 2/12\n",
      "18002/18002 [==============================] - 10s 545us/step - loss: 0.2184 - acc: 0.9043 - val_loss: 0.2353 - val_acc: 0.9005\n"
     ]
    },
    {
     "data": {
      "text/plain": [
       "<keras.callbacks.History at 0x25a838b7080>"
      ]
     },
     "execution_count": 14,
     "metadata": {},
     "output_type": "execute_result"
    }
   ],
   "source": [
    "##  測試是否可以執行模型\n",
    "\n",
    "path      = \"C:\\\\Users\\\\user\\\\Desktop\\\\Python\\\\projectNevus\\\\data\\\\temporary\\\\\"\n",
    "file      = \"dataInputFull.txt\"\n",
    "dataInput = pickle.load(open(path + file, \"rb\"))\n",
    "\n",
    "Index    = dataInput[0]\n",
    "Id       = dataInput[1]\n",
    "Image    = dataInput[2] / 255  ## 正規化(不好的寫法)\n",
    "Variable = dataInput[3]\n",
    "Label    = keras.utils.to_categorical(dataInput[4])\n",
    "\n",
    "IndexTrain, IndexValid, LabelTrain, LabelValid = train_test_split(Index, Label, stratify=Label, test_size=0.1)\n",
    "\n",
    "##  設定 Early stopping\n",
    "EarlyStopping = keras.callbacks.EarlyStopping(monitor='val_loss', min_delta=0, patience=0, verbose=0, mode='min')\n",
    "\n",
    "model.fit(x=[Image[IndexTrain, :, :, :], Variable[IndexTrain, :]], y=LabelTrain, \n",
    "          batch_size=256, epochs=12, callbacks=[EarlyStopping],\n",
    "          validation_data = ([Image[IndexValid, :, :, :], Variable[IndexValid, :]], LabelValid))\n"
   ]
  },
  {
   "cell_type": "code",
   "execution_count": 15,
   "metadata": {},
   "outputs": [
    {
     "data": {
      "text/plain": [
       "array([[   1,    1],\n",
       "       [ 198, 1801]], dtype=int64)"
      ]
     },
     "execution_count": 15,
     "metadata": {},
     "output_type": "execute_result"
    }
   ],
   "source": [
    "confusion_matrix(model.predict([Image[IndexValid, :, :, :], Variable[IndexValid, :]]).argmax(axis=-1), LabelValid.argmax(axis=-1))"
   ]
  }
 ],
 "metadata": {
  "kernelspec": {
   "display_name": "Python 3",
   "language": "python",
   "name": "python3"
  },
  "language_info": {
   "codemirror_mode": {
    "name": "ipython",
    "version": 3
   },
   "file_extension": ".py",
   "mimetype": "text/x-python",
   "name": "python",
   "nbconvert_exporter": "python",
   "pygments_lexer": "ipython3",
   "version": "3.6.4"
  }
 },
 "nbformat": 4,
 "nbformat_minor": 2
}
