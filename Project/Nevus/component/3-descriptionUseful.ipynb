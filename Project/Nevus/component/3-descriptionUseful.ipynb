{
 "cells": [
  {
   "cell_type": "code",
   "execution_count": 23,
   "metadata": {},
   "outputs": [
    {
     "data": {
      "text/plain": [
       "'C:\\\\Users\\\\user\\\\Desktop\\\\Python\\\\projectNevus\\\\component'"
      ]
     },
     "execution_count": 23,
     "metadata": {},
     "output_type": "execute_result"
    }
   ],
   "source": [
    "import os \n",
    "import pandas\n",
    "import numpy\n",
    "import pickle\n",
    "os.getcwd()"
   ]
  },
  {
   "cell_type": "code",
   "execution_count": 24,
   "metadata": {},
   "outputs": [],
   "source": [
    "##  補註解"
   ]
  },
  {
   "cell_type": "code",
   "execution_count": 25,
   "metadata": {},
   "outputs": [
    {
     "data": {
      "text/html": [
       "<div>\n",
       "<style scoped>\n",
       "    .dataframe tbody tr th:only-of-type {\n",
       "        vertical-align: middle;\n",
       "    }\n",
       "\n",
       "    .dataframe tbody tr th {\n",
       "        vertical-align: top;\n",
       "    }\n",
       "\n",
       "    .dataframe thead th {\n",
       "        text-align: right;\n",
       "    }\n",
       "</style>\n",
       "<table border=\"1\" class=\"dataframe\">\n",
       "  <thead>\n",
       "    <tr style=\"text-align: right;\">\n",
       "      <th></th>\n",
       "      <th>Age</th>\n",
       "      <th>Diagnosis</th>\n",
       "      <th>Id</th>\n",
       "      <th>Sex</th>\n",
       "      <th>Status</th>\n",
       "      <th>Type</th>\n",
       "    </tr>\n",
       "  </thead>\n",
       "  <tbody>\n",
       "    <tr>\n",
       "      <th>0</th>\n",
       "      <td>55.0</td>\n",
       "      <td>nevus</td>\n",
       "      <td>ISIC_0000000</td>\n",
       "      <td>female</td>\n",
       "      <td>benign</td>\n",
       "      <td>dermoscopic</td>\n",
       "    </tr>\n",
       "    <tr>\n",
       "      <th>1</th>\n",
       "      <td>30.0</td>\n",
       "      <td>nevus</td>\n",
       "      <td>ISIC_0000001</td>\n",
       "      <td>female</td>\n",
       "      <td>benign</td>\n",
       "      <td>dermoscopic</td>\n",
       "    </tr>\n",
       "    <tr>\n",
       "      <th>2</th>\n",
       "      <td>60.0</td>\n",
       "      <td>melanoma</td>\n",
       "      <td>ISIC_0000002</td>\n",
       "      <td>female</td>\n",
       "      <td>malignant</td>\n",
       "      <td>dermoscopic</td>\n",
       "    </tr>\n",
       "    <tr>\n",
       "      <th>3</th>\n",
       "      <td>30.0</td>\n",
       "      <td>nevus</td>\n",
       "      <td>ISIC_0000003</td>\n",
       "      <td>male</td>\n",
       "      <td>benign</td>\n",
       "      <td>dermoscopic</td>\n",
       "    </tr>\n",
       "    <tr>\n",
       "      <th>4</th>\n",
       "      <td>80.0</td>\n",
       "      <td>melanoma</td>\n",
       "      <td>ISIC_0000004</td>\n",
       "      <td>male</td>\n",
       "      <td>malignant</td>\n",
       "      <td>dermoscopic</td>\n",
       "    </tr>\n",
       "  </tbody>\n",
       "</table>\n",
       "</div>"
      ],
      "text/plain": [
       "    Age Diagnosis            Id     Sex     Status         Type\n",
       "0  55.0     nevus  ISIC_0000000  female     benign  dermoscopic\n",
       "1  30.0     nevus  ISIC_0000001  female     benign  dermoscopic\n",
       "2  60.0  melanoma  ISIC_0000002  female  malignant  dermoscopic\n",
       "3  30.0     nevus  ISIC_0000003    male     benign  dermoscopic\n",
       "4  80.0  melanoma  ISIC_0000004    male  malignant  dermoscopic"
      ]
     },
     "execution_count": 25,
     "metadata": {},
     "output_type": "execute_result"
    }
   ],
   "source": [
    "path = \"C:\\\\Users\\\\user\\\\Desktop\\\\Python\\\\projectNevus\\\\data\\\\temporary\\\\\"\n",
    "file = \"descriptionClear.csv\"\n",
    "descriptionClear = pandas.read_csv(path + file, index_col=0)\n",
    "descriptionClear.head()"
   ]
  },
  {
   "cell_type": "code",
   "execution_count": 31,
   "metadata": {},
   "outputs": [
    {
     "data": {
      "text/plain": [
       "actinic keratosis                         2\n",
       "angiofibroma or fibrous papule            1\n",
       "angioma                                  14\n",
       "atypical melanocytic proliferation       13\n",
       "basal cell carcinoma                     68\n",
       "dermatofibroma                            5\n",
       "lentigo NOS                              71\n",
       "lentigo simplex                          27\n",
       "lichenoid keratosis                       1\n",
       "melanoma                               2063\n",
       "nevus                                 18272\n",
       "other                                    10\n",
       "scar                                      1\n",
       "seborrheic keratosis                    414\n",
       "solar lentigo                            57\n",
       "squamous cell carcinoma                  22\n",
       "dtype: int64"
      ]
     },
     "execution_count": 31,
     "metadata": {},
     "output_type": "execute_result"
    }
   ],
   "source": [
    "##  痣的診斷\n",
    "pandas.get_dummies(descriptionClear.Diagnosis).sum(axis=0)"
   ]
  },
  {
   "cell_type": "code",
   "execution_count": 32,
   "metadata": {},
   "outputs": [
    {
     "data": {
      "text/plain": [
       "benign                     18869\n",
       "indeterminate                 14\n",
       "indeterminate/benign           3\n",
       "indeterminate/malignant        2\n",
       "malignant                   2153\n",
       "dtype: int64"
      ]
     },
     "execution_count": 32,
     "metadata": {},
     "output_type": "execute_result"
    }
   ],
   "source": [
    "##  痣的狀態\n",
    "pandas.get_dummies(descriptionClear.Status).sum(axis=0)"
   ]
  },
  {
   "cell_type": "code",
   "execution_count": null,
   "metadata": {},
   "outputs": [],
   "source": [
    "##  補註解"
   ]
  },
  {
   "cell_type": "code",
   "execution_count": 49,
   "metadata": {},
   "outputs": [],
   "source": [
    "descriptionUseful  = descriptionClear\n",
    "\n",
    "index = []\n",
    "for i in list(descriptionUseful.Diagnosis.values):\n",
    "    if(i==\"melanoma\" or i==\"nevus\"):\n",
    "        index.append(True)\n",
    "    else: \n",
    "        index.append(False)\n",
    "\n",
    "descriptionUseful = descriptionUseful[index]\n",
    "\n",
    "index = []\n",
    "for i in list(descriptionUseful.Status.values):\n",
    "    if(i==\"benign\" or i==\"malignant\"):\n",
    "        index.append(True)\n",
    "    else: \n",
    "        index.append(False)\n",
    "\n",
    "descriptionUseful = descriptionUseful[index]"
   ]
  },
  {
   "cell_type": "code",
   "execution_count": 60,
   "metadata": {},
   "outputs": [
    {
     "data": {
      "text/plain": [
       "benign       0.898509\n",
       "malignant    0.101491\n",
       "dtype: float64"
      ]
     },
     "execution_count": 60,
     "metadata": {},
     "output_type": "execute_result"
    }
   ],
   "source": [
    "Status = pandas.get_dummies(descriptionUseful.Status).sum(axis=0)\n",
    "Status/sum(Status)"
   ]
  },
  {
   "cell_type": "code",
   "execution_count": 61,
   "metadata": {},
   "outputs": [],
   "source": [
    "path = \"C:\\\\Users\\\\user\\\\Desktop\\\\Python\\\\projectNevus\\\\data\\\\temporary\\\\\"\n",
    "descriptionUseful.to_csv(path + \"descriptionUseful.csv\")"
   ]
  }
 ],
 "metadata": {
  "kernelspec": {
   "display_name": "Python 3",
   "language": "python",
   "name": "python3"
  },
  "language_info": {
   "codemirror_mode": {
    "name": "ipython",
    "version": 3
   },
   "file_extension": ".py",
   "mimetype": "text/x-python",
   "name": "python",
   "nbconvert_exporter": "python",
   "pygments_lexer": "ipython3",
   "version": "3.6.4"
  }
 },
 "nbformat": 4,
 "nbformat_minor": 2
}
