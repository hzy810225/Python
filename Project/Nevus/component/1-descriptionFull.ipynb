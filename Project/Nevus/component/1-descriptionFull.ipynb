{
 "cells": [
  {
   "cell_type": "code",
   "execution_count": 28,
   "metadata": {},
   "outputs": [
    {
     "data": {
      "text/plain": [
       "'C:\\\\Users\\\\user\\\\Desktop\\\\Python\\\\projectNevus\\\\component'"
      ]
     },
     "execution_count": 28,
     "metadata": {},
     "output_type": "execute_result"
    }
   ],
   "source": [
    "import json\n",
    "import os\n",
    "import pandas\n",
    "import tqdm\n",
    "os.getcwd()"
   ]
  },
  {
   "cell_type": "code",
   "execution_count": 29,
   "metadata": {},
   "outputs": [],
   "source": [
    "##  要補註解"
   ]
  },
  {
   "cell_type": "code",
   "execution_count": 30,
   "metadata": {},
   "outputs": [],
   "source": [
    "path = \"C:\\\\Users\\\\user\\\\Desktop\\\\Python\\\\projectNevus\\\\data\\\\description\\\\\"\n",
    "N = len(os.listdir(path))\n",
    "Id        = [None] * N\n",
    "Age       = [None] * N\n",
    "Status    = [None] * N\n",
    "Sex       = [None] * N\n",
    "Diagnosis = [None] * N\n",
    "Type      = [None] * N\n",
    "for i, file in enumerate(os.listdir(path)):\n",
    "    \n",
    "    Id[i] = file  \n",
    "    \n",
    "    Json = json.loads(open(path + file).read())\n",
    "    if( \"meta\" in Json.keys() ):\n",
    "        if( \"clinical\" in Json[\"meta\"].keys() ):\n",
    "            if( \"age_approx\" in Json[\"meta\"][\"clinical\"].keys() ):\n",
    "                Age[i] = Json[\"meta\"][\"clinical\"][\"age_approx\"]\n",
    "            if( \"benign_malignant\" in Json[\"meta\"][\"clinical\"].keys() ):\n",
    "                Status[i] = Json[\"meta\"][\"clinical\"][\"benign_malignant\"]\n",
    "            if( \"sex\" in Json[\"meta\"][\"clinical\"].keys() ):\n",
    "                Sex[i] = Json[\"meta\"][\"clinical\"][\"sex\"]\n",
    "            if( \"diagnosis\" in Json[\"meta\"][\"clinical\"].keys() ):\n",
    "                Diagnosis[i] = Json[\"meta\"][\"clinical\"][\"diagnosis\"]\n",
    "        if( \"acquisition\" in Json[\"meta\"].keys() ):\n",
    "            if( \"image_type\" in Json[\"meta\"][\"acquisition\"].keys() ):\n",
    "                Type[i] = Json[\"meta\"][\"acquisition\"][\"image_type\"]\n"
   ]
  },
  {
   "cell_type": "code",
   "execution_count": 31,
   "metadata": {},
   "outputs": [
    {
     "data": {
      "text/html": [
       "<div>\n",
       "<style scoped>\n",
       "    .dataframe tbody tr th:only-of-type {\n",
       "        vertical-align: middle;\n",
       "    }\n",
       "\n",
       "    .dataframe tbody tr th {\n",
       "        vertical-align: top;\n",
       "    }\n",
       "\n",
       "    .dataframe thead th {\n",
       "        text-align: right;\n",
       "    }\n",
       "</style>\n",
       "<table border=\"1\" class=\"dataframe\">\n",
       "  <thead>\n",
       "    <tr style=\"text-align: right;\">\n",
       "      <th></th>\n",
       "      <th>Age</th>\n",
       "      <th>Diagnosis</th>\n",
       "      <th>Id</th>\n",
       "      <th>Sex</th>\n",
       "      <th>Status</th>\n",
       "      <th>Type</th>\n",
       "    </tr>\n",
       "  </thead>\n",
       "  <tbody>\n",
       "    <tr>\n",
       "      <th>0</th>\n",
       "      <td>55.0</td>\n",
       "      <td>nevus</td>\n",
       "      <td>ISIC_0000000</td>\n",
       "      <td>female</td>\n",
       "      <td>benign</td>\n",
       "      <td>dermoscopic</td>\n",
       "    </tr>\n",
       "    <tr>\n",
       "      <th>1</th>\n",
       "      <td>30.0</td>\n",
       "      <td>nevus</td>\n",
       "      <td>ISIC_0000001</td>\n",
       "      <td>female</td>\n",
       "      <td>benign</td>\n",
       "      <td>dermoscopic</td>\n",
       "    </tr>\n",
       "    <tr>\n",
       "      <th>2</th>\n",
       "      <td>60.0</td>\n",
       "      <td>melanoma</td>\n",
       "      <td>ISIC_0000002</td>\n",
       "      <td>female</td>\n",
       "      <td>malignant</td>\n",
       "      <td>dermoscopic</td>\n",
       "    </tr>\n",
       "    <tr>\n",
       "      <th>3</th>\n",
       "      <td>30.0</td>\n",
       "      <td>nevus</td>\n",
       "      <td>ISIC_0000003</td>\n",
       "      <td>male</td>\n",
       "      <td>benign</td>\n",
       "      <td>dermoscopic</td>\n",
       "    </tr>\n",
       "    <tr>\n",
       "      <th>4</th>\n",
       "      <td>80.0</td>\n",
       "      <td>melanoma</td>\n",
       "      <td>ISIC_0000004</td>\n",
       "      <td>male</td>\n",
       "      <td>malignant</td>\n",
       "      <td>dermoscopic</td>\n",
       "    </tr>\n",
       "  </tbody>\n",
       "</table>\n",
       "</div>"
      ],
      "text/plain": [
       "    Age Diagnosis            Id     Sex     Status         Type\n",
       "0  55.0     nevus  ISIC_0000000  female     benign  dermoscopic\n",
       "1  30.0     nevus  ISIC_0000001  female     benign  dermoscopic\n",
       "2  60.0  melanoma  ISIC_0000002  female  malignant  dermoscopic\n",
       "3  30.0     nevus  ISIC_0000003    male     benign  dermoscopic\n",
       "4  80.0  melanoma  ISIC_0000004    male  malignant  dermoscopic"
      ]
     },
     "execution_count": 31,
     "metadata": {},
     "output_type": "execute_result"
    }
   ],
   "source": [
    "descriptionFull = pandas.DataFrame({\n",
    "    \"Id\" : Id,\n",
    "    \"Age\" : Age,\n",
    "    \"Status\": Status,\n",
    "    \"Sex\": Sex,\n",
    "    \"Diagnosis\": Diagnosis,\n",
    "    \"Type\": Type\n",
    "})\n",
    "descriptionFull.head()"
   ]
  },
  {
   "cell_type": "code",
   "execution_count": 32,
   "metadata": {},
   "outputs": [
    {
     "data": {
      "text/plain": [
       "(23906, 6)"
      ]
     },
     "execution_count": 32,
     "metadata": {},
     "output_type": "execute_result"
    }
   ],
   "source": [
    "descriptionFull.shape"
   ]
  },
  {
   "cell_type": "code",
   "execution_count": 33,
   "metadata": {},
   "outputs": [],
   "source": [
    "path = \"C:\\\\Users\\\\user\\\\Desktop\\\\Python\\\\projectNevus\\\\data\\\\temporary\\\\\"\n",
    "descriptionFull.to_csv(path + \"descriptionFull.csv\")"
   ]
  }
 ],
 "metadata": {
  "kernelspec": {
   "display_name": "Python 3",
   "language": "python",
   "name": "python3"
  },
  "language_info": {
   "codemirror_mode": {
    "name": "ipython",
    "version": 3
   },
   "file_extension": ".py",
   "mimetype": "text/x-python",
   "name": "python",
   "nbconvert_exporter": "python",
   "pygments_lexer": "ipython3",
   "version": "3.6.4"
  }
 },
 "nbformat": 4,
 "nbformat_minor": 2
}
