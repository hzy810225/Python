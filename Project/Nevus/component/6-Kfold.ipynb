{
 "cells": [
  {
   "cell_type": "code",
   "execution_count": 11,
   "metadata": {},
   "outputs": [],
   "source": [
    "import os \n",
    "import pickle\n",
    "import numpy"
   ]
  },
  {
   "cell_type": "code",
   "execution_count": 24,
   "metadata": {},
   "outputs": [],
   "source": [
    "path      = \"C:\\\\Users\\\\user\\\\Desktop\\\\Python\\\\projectNevus\\\\data\\\\temporary\\\\\"\n",
    "file      = \"dataInput.txt\"\n",
    "dataInput = pickle.load(open(path + file, \"rb\"))"
   ]
  },
  {
   "cell_type": "code",
   "execution_count": 52,
   "metadata": {},
   "outputs": [
    {
     "name": "stdout",
     "output_type": "stream",
     "text": [
      "Train: [    0     1     2 ... 19998 19999 20000] | test: [    0     1     2 ... 19998 19999 20000]\n"
     ]
    }
   ],
   "source": [
    "from sklearn.model_selection import StratifiedKFold\n",
    "\n",
    "K     = 4\n",
    "Id    = dataInput[0]\n",
    "Label = dataInput[3]\n",
    "\n",
    "for indexTrain, indexValid in StratifiedKFold(n_splits=K,random_state=0,shuffle=True).split(Id , Label):\n",
    "    print('Train: %s | test: %s' % (indexTrain, indexTrain))"
   ]
  }
 ],
 "metadata": {
  "kernelspec": {
   "display_name": "Python 3",
   "language": "python",
   "name": "python3"
  },
  "language_info": {
   "codemirror_mode": {
    "name": "ipython",
    "version": 3
   },
   "file_extension": ".py",
   "mimetype": "text/x-python",
   "name": "python",
   "nbconvert_exporter": "python",
   "pygments_lexer": "ipython3",
   "version": "3.6.4"
  }
 },
 "nbformat": 4,
 "nbformat_minor": 2
}
