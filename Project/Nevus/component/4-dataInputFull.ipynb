{
 "cells": [
  {
   "cell_type": "code",
   "execution_count": 1,
   "metadata": {},
   "outputs": [
    {
     "data": {
      "text/plain": [
       "'C:\\\\Users\\\\user\\\\Desktop\\\\Python\\\\projectNevus\\\\component'"
      ]
     },
     "execution_count": 1,
     "metadata": {},
     "output_type": "execute_result"
    }
   ],
   "source": [
    "import os \n",
    "import PIL\n",
    "import numpy\n",
    "import pandas\n",
    "import tqdm\n",
    "import pickle\n",
    "os.getcwd()"
   ]
  },
  {
   "cell_type": "code",
   "execution_count": 2,
   "metadata": {},
   "outputs": [
    {
     "data": {
      "text/html": [
       "<div>\n",
       "<style scoped>\n",
       "    .dataframe tbody tr th:only-of-type {\n",
       "        vertical-align: middle;\n",
       "    }\n",
       "\n",
       "    .dataframe tbody tr th {\n",
       "        vertical-align: top;\n",
       "    }\n",
       "\n",
       "    .dataframe thead th {\n",
       "        text-align: right;\n",
       "    }\n",
       "</style>\n",
       "<table border=\"1\" class=\"dataframe\">\n",
       "  <thead>\n",
       "    <tr style=\"text-align: right;\">\n",
       "      <th></th>\n",
       "      <th>Age</th>\n",
       "      <th>Diagnosis</th>\n",
       "      <th>Id</th>\n",
       "      <th>Sex</th>\n",
       "      <th>Status</th>\n",
       "      <th>Type</th>\n",
       "    </tr>\n",
       "  </thead>\n",
       "  <tbody>\n",
       "    <tr>\n",
       "      <th>0</th>\n",
       "      <td>55.0</td>\n",
       "      <td>nevus</td>\n",
       "      <td>ISIC_0000000</td>\n",
       "      <td>female</td>\n",
       "      <td>benign</td>\n",
       "      <td>dermoscopic</td>\n",
       "    </tr>\n",
       "    <tr>\n",
       "      <th>1</th>\n",
       "      <td>30.0</td>\n",
       "      <td>nevus</td>\n",
       "      <td>ISIC_0000001</td>\n",
       "      <td>female</td>\n",
       "      <td>benign</td>\n",
       "      <td>dermoscopic</td>\n",
       "    </tr>\n",
       "    <tr>\n",
       "      <th>2</th>\n",
       "      <td>60.0</td>\n",
       "      <td>melanoma</td>\n",
       "      <td>ISIC_0000002</td>\n",
       "      <td>female</td>\n",
       "      <td>malignant</td>\n",
       "      <td>dermoscopic</td>\n",
       "    </tr>\n",
       "    <tr>\n",
       "      <th>3</th>\n",
       "      <td>30.0</td>\n",
       "      <td>nevus</td>\n",
       "      <td>ISIC_0000003</td>\n",
       "      <td>male</td>\n",
       "      <td>benign</td>\n",
       "      <td>dermoscopic</td>\n",
       "    </tr>\n",
       "    <tr>\n",
       "      <th>4</th>\n",
       "      <td>80.0</td>\n",
       "      <td>melanoma</td>\n",
       "      <td>ISIC_0000004</td>\n",
       "      <td>male</td>\n",
       "      <td>malignant</td>\n",
       "      <td>dermoscopic</td>\n",
       "    </tr>\n",
       "  </tbody>\n",
       "</table>\n",
       "</div>"
      ],
      "text/plain": [
       "    Age Diagnosis            Id     Sex     Status         Type\n",
       "0  55.0     nevus  ISIC_0000000  female     benign  dermoscopic\n",
       "1  30.0     nevus  ISIC_0000001  female     benign  dermoscopic\n",
       "2  60.0  melanoma  ISIC_0000002  female  malignant  dermoscopic\n",
       "3  30.0     nevus  ISIC_0000003    male     benign  dermoscopic\n",
       "4  80.0  melanoma  ISIC_0000004    male  malignant  dermoscopic"
      ]
     },
     "execution_count": 2,
     "metadata": {},
     "output_type": "execute_result"
    }
   ],
   "source": [
    "path = \"C:\\\\Users\\\\user\\\\Desktop\\\\Python\\\\projectNevus\\\\data\\\\temporary\\\\\"\n",
    "file = \"descriptionUseful.csv\"\n",
    "descriptionUseful = pandas.read_csv(path+file, index_col=0)\n",
    "descriptionUseful.head()"
   ]
  },
  {
   "cell_type": "code",
   "execution_count": 3,
   "metadata": {},
   "outputs": [
    {
     "data": {
      "text/html": [
       "<div>\n",
       "<style scoped>\n",
       "    .dataframe tbody tr th:only-of-type {\n",
       "        vertical-align: middle;\n",
       "    }\n",
       "\n",
       "    .dataframe tbody tr th {\n",
       "        vertical-align: top;\n",
       "    }\n",
       "\n",
       "    .dataframe thead th {\n",
       "        text-align: right;\n",
       "    }\n",
       "</style>\n",
       "<table border=\"1\" class=\"dataframe\">\n",
       "  <thead>\n",
       "    <tr style=\"text-align: right;\">\n",
       "      <th></th>\n",
       "      <th>Age</th>\n",
       "      <th>Diagnosis</th>\n",
       "      <th>Id</th>\n",
       "      <th>Sex</th>\n",
       "      <th>Status</th>\n",
       "      <th>Type</th>\n",
       "      <th>female</th>\n",
       "      <th>male</th>\n",
       "    </tr>\n",
       "  </thead>\n",
       "  <tbody>\n",
       "    <tr>\n",
       "      <th>0</th>\n",
       "      <td>55.0</td>\n",
       "      <td>nevus</td>\n",
       "      <td>ISIC_0000000</td>\n",
       "      <td>female</td>\n",
       "      <td>benign</td>\n",
       "      <td>dermoscopic</td>\n",
       "      <td>1</td>\n",
       "      <td>0</td>\n",
       "    </tr>\n",
       "    <tr>\n",
       "      <th>1</th>\n",
       "      <td>30.0</td>\n",
       "      <td>nevus</td>\n",
       "      <td>ISIC_0000001</td>\n",
       "      <td>female</td>\n",
       "      <td>benign</td>\n",
       "      <td>dermoscopic</td>\n",
       "      <td>1</td>\n",
       "      <td>0</td>\n",
       "    </tr>\n",
       "    <tr>\n",
       "      <th>2</th>\n",
       "      <td>60.0</td>\n",
       "      <td>melanoma</td>\n",
       "      <td>ISIC_0000002</td>\n",
       "      <td>female</td>\n",
       "      <td>malignant</td>\n",
       "      <td>dermoscopic</td>\n",
       "      <td>1</td>\n",
       "      <td>0</td>\n",
       "    </tr>\n",
       "    <tr>\n",
       "      <th>3</th>\n",
       "      <td>30.0</td>\n",
       "      <td>nevus</td>\n",
       "      <td>ISIC_0000003</td>\n",
       "      <td>male</td>\n",
       "      <td>benign</td>\n",
       "      <td>dermoscopic</td>\n",
       "      <td>0</td>\n",
       "      <td>1</td>\n",
       "    </tr>\n",
       "    <tr>\n",
       "      <th>4</th>\n",
       "      <td>80.0</td>\n",
       "      <td>melanoma</td>\n",
       "      <td>ISIC_0000004</td>\n",
       "      <td>male</td>\n",
       "      <td>malignant</td>\n",
       "      <td>dermoscopic</td>\n",
       "      <td>0</td>\n",
       "      <td>1</td>\n",
       "    </tr>\n",
       "  </tbody>\n",
       "</table>\n",
       "</div>"
      ],
      "text/plain": [
       "    Age Diagnosis            Id     Sex     Status         Type  female  male\n",
       "0  55.0     nevus  ISIC_0000000  female     benign  dermoscopic       1     0\n",
       "1  30.0     nevus  ISIC_0000001  female     benign  dermoscopic       1     0\n",
       "2  60.0  melanoma  ISIC_0000002  female  malignant  dermoscopic       1     0\n",
       "3  30.0     nevus  ISIC_0000003    male     benign  dermoscopic       0     1\n",
       "4  80.0  melanoma  ISIC_0000004    male  malignant  dermoscopic       0     1"
      ]
     },
     "execution_count": 3,
     "metadata": {},
     "output_type": "execute_result"
    }
   ],
   "source": [
    "Sex    = pandas.get_dummies(descriptionUseful.Sex)\n",
    "Status = pandas.get_dummies(descriptionUseful.Status)\n",
    "descriptionUseful = pandas.concat([descriptionUseful, Sex], axis=1)\n",
    "descriptionUseful.head()"
   ]
  },
  {
   "cell_type": "code",
   "execution_count": 4,
   "metadata": {},
   "outputs": [
    {
     "data": {
      "application/vnd.jupyter.widget-view+json": {
       "model_id": "0fff946d18834e96b87881b932e57aef",
       "version_major": 2,
       "version_minor": 0
      },
      "text/html": [
       "<p>Failed to display Jupyter Widget of type <code>HBox</code>.</p>\n",
       "<p>\n",
       "  If you're reading this message in the Jupyter Notebook or JupyterLab Notebook, it may mean\n",
       "  that the widgets JavaScript is still loading. If this message persists, it\n",
       "  likely means that the widgets JavaScript library is either not installed or\n",
       "  not enabled. See the <a href=\"https://ipywidgets.readthedocs.io/en/stable/user_install.html\">Jupyter\n",
       "  Widgets Documentation</a> for setup instructions.\n",
       "</p>\n",
       "<p>\n",
       "  If you're reading this message in another frontend (for example, a static\n",
       "  rendering on GitHub or <a href=\"https://nbviewer.jupyter.org/\">NBViewer</a>),\n",
       "  it may mean that your frontend doesn't currently support widgets.\n",
       "</p>\n"
      ],
      "text/plain": [
       "HBox(children=(IntProgress(value=0, max=20327), HTML(value='')))"
      ]
     },
     "metadata": {},
     "output_type": "display_data"
    },
    {
     "name": "stdout",
     "output_type": "stream",
     "text": [
      "\n"
     ]
    }
   ],
   "source": [
    "##  解決 PIL 開啟圖檔出現 error 的問題\n",
    "from PIL import ImageFile\n",
    "ImageFile.LOAD_TRUNCATED_IMAGES = True \n",
    "\n",
    "##  解決 tqdm_notebook 出現 error 問題\n",
    "tqdm.tqdm.monitor_interval = 0\n",
    "\n",
    "path = \"D:\\\\ISIC-Archive-Downloader\\\\Data\\\\Images\\\\\"\n",
    "\n",
    "Id       = []\n",
    "Image    = []\n",
    "Variable = []\n",
    "Label    = []\n",
    "Index    = []\n",
    "for i in tqdm.tqdm_notebook(descriptionUseful.Id):\n",
    "    \n",
    "    file   = i + \".jpg\"\n",
    "    resize = (32,32)\n",
    "    \n",
    "    if( file in os.listdir(path) ):\n",
    "        \n",
    "        image    = PIL.Image.open(path + file)\n",
    "        image    = image.resize(resize, PIL.Image.BILINEAR)\n",
    "        variable = descriptionUseful[descriptionUseful.Id == i][[\"Age\",\"female\",\"male\"]].values\n",
    "        status   = descriptionUseful[descriptionUseful.Id == i].Status.values\n",
    "\n",
    "        if status == 'benign':\n",
    "            label = 1\n",
    "        elif status == 'malignant':\n",
    "            label = 0\n",
    "        else:\n",
    "            label = None\n",
    "        \n",
    "        if( numpy.array(image).shape[2] == 3 ):           \n",
    "            Id.append(numpy.array(i))\n",
    "            Image.append(numpy.array(image))\n",
    "            Variable.append(numpy.array(variable))\n",
    "            Label.append(numpy.array(label))\n",
    "\n",
    "Index    = numpy.array([i for i in range(len(Id))])\n",
    "Id       = numpy.array(Id)\n",
    "Image    = numpy.array(Image)\n",
    "Variable = numpy.array(Variable)  ##  這邊 dimension 會多 1\n",
    "Variable = Variable.reshape((Variable.shape[0],Variable.shape[2]))  ##  修正 dimension\n",
    "Label    = numpy.array(Label)\n",
    "dataInputFull = (Index, Id, Image, Variable, Label)"
   ]
  },
  {
   "cell_type": "code",
   "execution_count": 5,
   "metadata": {},
   "outputs": [],
   "source": [
    "path = \"C:\\\\Users\\\\user\\\\Desktop\\\\Python\\\\projectNevus\\\\data\\\\temporary\\\\\"\n",
    "file = \"dataInputFull.txt\"\n",
    "pickle.dump(dataInputFull, open(path + file, 'wb'))"
   ]
  },
  {
   "cell_type": "code",
   "execution_count": 20,
   "metadata": {},
   "outputs": [],
   "source": [
    "# loadTest = pickle.load(open(path + file, 'rb'))\n",
    "# print(type(loadTest),  \"\\n\")\n",
    "# print(loadTest[0][1:6],\"\\n\")\n",
    "# print(loadTest[2][1:6],\"\\n\")"
   ]
  }
 ],
 "metadata": {
  "kernelspec": {
   "display_name": "Python 3",
   "language": "python",
   "name": "python3"
  },
  "language_info": {
   "codemirror_mode": {
    "name": "ipython",
    "version": 3
   },
   "file_extension": ".py",
   "mimetype": "text/x-python",
   "name": "python",
   "nbconvert_exporter": "python",
   "pygments_lexer": "ipython3",
   "version": "3.6.4"
  }
 },
 "nbformat": 4,
 "nbformat_minor": 2
}
